{
 "cells": [
  {
   "cell_type": "markdown",
   "metadata": {},
   "source": [
    "# Analyse Final Project"
   ]
  },
  {
   "cell_type": "markdown",
   "metadata": {},
   "source": [
    "***INSTRUCTIONS***\n",
    "\n",
    "- This project contains 4 major questions.  The questions themselves are independent of each other, but the steps within each question build on top of each other. That means, if you get stuck in one step, you might not be able to proceed to the next step of the question. If you find yourself in this situation, it might be best to jump to the next question.<br><br>\n",
    "\n",
    "- Way down, at the bottom of the notebook is a set of routines that you can use to test your functions.  **Don't change the code in these cells**.<br><br>\n",
    "\n",
    "- **DO NOT ADD / REMOVE ANY CELLS TO / FROM THIS NOTEBOOK**.  Rather open another clean notebook in which to play around and test code. <br><br>\n",
    "\n",
    "- The only parts of this notebook you may change are the `# YOUR CODE HERE` sections within the question functions.<br><br>\n",
    "\n",
    "- Your **entire notebook** must run **WITHOUT RAISING ANY ERRORS**. That means - even if the answer your question returns is incorrect, it may not raise any errors.  The whole notebook must be able to run from start to finish without raising an error.  If your notebook raises an error, you risk getting zero.  (Use `Kernel` -> `Restart & Run All` to check this). <br><br>\n",
    "\n",
    "- Make **sure**  that **all** of the desired cols are in your solution output. Also make sure that you **don't include any additional cols **  (i.e cols that were not specified in the question)<br><br>\n",
    "\n",
    "- Make sure your code returns the same output as the **expected output** for each question. "
   ]
  },
  {
   "cell_type": "markdown",
   "metadata": {},
   "source": [
    "-----------\n",
    "***Good luck.  May the odds be in your favour.***"
   ]
  },
  {
   "cell_type": "markdown",
   "metadata": {},
   "source": [
    "-----------"
   ]
  },
  {
   "cell_type": "code",
   "execution_count": 2,
   "metadata": {},
   "outputs": [],
   "source": [
    "import numpy as np\n",
    "import pandas as pd\n",
    "\n",
    "from datetime import datetime"
   ]
  },
  {
   "cell_type": "markdown",
   "metadata": {},
   "source": [
    "# Starting point"
   ]
  },
  {
   "cell_type": "markdown",
   "metadata": {},
   "source": [
    "You will need to use the following 5 Pandas Data Frames to answer the rest of the questions in this notebook. \n",
    "\n",
    "**Be careful not to make changes to any of these original Data Frames**. "
   ]
  },
  {
   "cell_type": "code",
   "execution_count": 3,
   "metadata": {},
   "outputs": [],
   "source": [
    "water_consumption_df = pd.read_csv('https://raw.githubusercontent.com/Explore-AI/Public-Data/master/AnalyseProject/water_consumption.csv', usecols=[\"Date\", \"UrbanUseML\", \"AgriculturalUseML\"])\n",
    "\n",
    "dam_df = pd.read_csv('https://raw.githubusercontent.com/Explore-AI/Public-Data/master/AnalyseProject/dam.csv', usecols=[\"DamId\", \"DamName\", \"MaxCapacityML\", \"Latitude\", \"Longitude\"])\n",
    "\n",
    "rain_station_df = pd.read_csv('https://raw.githubusercontent.com/Explore-AI/Public-Data/master/AnalyseProject/rain_stations.csv', usecols=[\"StationId\", \"RainStationName\", \"Latitude\", \"Longitude\"])\n",
    "\n",
    "# DamID in the dam_level_df DataFrame corresponds to DamID in the dam_df DataFrame\n",
    "dam_level_df = pd.read_csv('https://raw.githubusercontent.com/Explore-AI/Public-Data/master/AnalyseProject/dam_level.csv',  usecols=[\"Date\", \"DamId\", \"HeightM\", \"StorageML\"])\n",
    "\n",
    "# StationID in the rainfall_df DataFrame corresponds to StationID in the rain_station_df DataFrame\n",
    "rainfall_df = pd.read_csv('https://raw.githubusercontent.com/Explore-AI/Public-Data/master/AnalyseProject/rainfall.csv',  usecols=[\"Date\", \"StationId\", \"PrecipitationMM\"])"
   ]
  },
  {
   "cell_type": "markdown",
   "metadata": {},
   "source": [
    "The Data Frames above are fetched from a database with the following ERD:\n",
    "\n",
    "![ERD](https://github.com/Explore-AI/Public-Data/blob/master/AnalyseProject/CTWC_ERD.png?raw=true)"
   ]
  },
  {
   "cell_type": "markdown",
   "metadata": {},
   "source": [
    "# Question 1 "
   ]
  },
  {
   "cell_type": "markdown",
   "metadata": {},
   "source": [
    "### Question 1 - Step 1\n",
    "\n",
    "Define a function that creates a Pandas DataFrame from the `WaterConsumption` table, containing all the columns (i.e. Date, UrbanML and AgriculturalML).\n",
    "\n",
    "The function should take `year` (an `int`) as an argument and return a Pandas DataFrame containing all the month consumption readings for that year only.\n",
    "\n",
    "<br>\n",
    "***Dataframe Specifications***:\n",
    "<br>\n",
    "The DataFrame should *only have* **three columns**:\n",
    "\n",
    "- A `Date` column as in the `datetime` format (`datetime64[ns]` to be precise). \n",
    "- An `UrbanUseML` column containing the storage in megalitres as a `float64` type.\n",
    "- An `AgriculturalUseML` column containing the storage in megalitres as a `float64` type.\n",
    "<br><br>\n",
    "- **The `Date` column should also be the index of the dataframe.**\n",
    "<br><br>\n",
    "- The column order should be:  `Date` *(as the index)* | `UrbanUseML` | `AgriculturalUseML`."
   ]
  },
  {
   "cell_type": "code",
   "execution_count": 4,
   "metadata": {},
   "outputs": [],
   "source": [
    "def consumption_df_for_year(year):\n",
    "    \n",
    "    # Set up the dataframe by copying the WaterConsumption table\n",
    "    local_df = water_consumption_df.copy()\n",
    "    \n",
    "    # Convert the date to datetime format\n",
    "    local_df['Date'] = pd.to_datetime(local_df.Date)\n",
    "    \n",
    "    # Filter the dataframe for the particular year:\n",
    "    local_df = local_df[local_df.Date >= datetime(year, 1, 1)]\n",
    "    local_df = local_df[local_df.Date < datetime(year + 1, 1, 1)]\n",
    "    \n",
    "    return local_df.set_index('Date')"
   ]
  },
  {
   "cell_type": "code",
   "execution_count": 4,
   "metadata": {},
   "outputs": [
    {
     "data": {
      "text/html": [
       "<div>\n",
       "<style scoped>\n",
       "    .dataframe tbody tr th:only-of-type {\n",
       "        vertical-align: middle;\n",
       "    }\n",
       "\n",
       "    .dataframe tbody tr th {\n",
       "        vertical-align: top;\n",
       "    }\n",
       "\n",
       "    .dataframe thead th {\n",
       "        text-align: right;\n",
       "    }\n",
       "</style>\n",
       "<table border=\"1\" class=\"dataframe\">\n",
       "  <thead>\n",
       "    <tr style=\"text-align: right;\">\n",
       "      <th></th>\n",
       "      <th>UrbanUseML</th>\n",
       "      <th>AgriculturalUseML</th>\n",
       "    </tr>\n",
       "    <tr>\n",
       "      <th>Date</th>\n",
       "      <th></th>\n",
       "      <th></th>\n",
       "    </tr>\n",
       "  </thead>\n",
       "  <tbody>\n",
       "    <tr>\n",
       "      <th>2012-01-01</th>\n",
       "      <td>1093.0</td>\n",
       "      <td>976.0</td>\n",
       "    </tr>\n",
       "    <tr>\n",
       "      <th>2012-02-01</th>\n",
       "      <td>1176.0</td>\n",
       "      <td>1023.0</td>\n",
       "    </tr>\n",
       "    <tr>\n",
       "      <th>2012-03-01</th>\n",
       "      <td>1119.0</td>\n",
       "      <td>846.0</td>\n",
       "    </tr>\n",
       "    <tr>\n",
       "      <th>2012-04-01</th>\n",
       "      <td>991.0</td>\n",
       "      <td>466.0</td>\n",
       "    </tr>\n",
       "    <tr>\n",
       "      <th>2012-05-01</th>\n",
       "      <td>873.0</td>\n",
       "      <td>52.0</td>\n",
       "    </tr>\n",
       "    <tr>\n",
       "      <th>2012-06-01</th>\n",
       "      <td>793.0</td>\n",
       "      <td>26.0</td>\n",
       "    </tr>\n",
       "    <tr>\n",
       "      <th>2012-07-01</th>\n",
       "      <td>757.0</td>\n",
       "      <td>25.0</td>\n",
       "    </tr>\n",
       "    <tr>\n",
       "      <th>2012-08-01</th>\n",
       "      <td>763.0</td>\n",
       "      <td>25.0</td>\n",
       "    </tr>\n",
       "    <tr>\n",
       "      <th>2012-09-01</th>\n",
       "      <td>791.0</td>\n",
       "      <td>26.0</td>\n",
       "    </tr>\n",
       "    <tr>\n",
       "      <th>2012-10-01</th>\n",
       "      <td>859.0</td>\n",
       "      <td>130.0</td>\n",
       "    </tr>\n",
       "    <tr>\n",
       "      <th>2012-11-01</th>\n",
       "      <td>941.0</td>\n",
       "      <td>299.0</td>\n",
       "    </tr>\n",
       "    <tr>\n",
       "      <th>2012-12-01</th>\n",
       "      <td>1052.0</td>\n",
       "      <td>802.0</td>\n",
       "    </tr>\n",
       "  </tbody>\n",
       "</table>\n",
       "</div>"
      ],
      "text/plain": [
       "            UrbanUseML  AgriculturalUseML\n",
       "Date                                     \n",
       "2012-01-01      1093.0              976.0\n",
       "2012-02-01      1176.0             1023.0\n",
       "2012-03-01      1119.0              846.0\n",
       "2012-04-01       991.0              466.0\n",
       "2012-05-01       873.0               52.0\n",
       "2012-06-01       793.0               26.0\n",
       "2012-07-01       757.0               25.0\n",
       "2012-08-01       763.0               25.0\n",
       "2012-09-01       791.0               26.0\n",
       "2012-10-01       859.0              130.0\n",
       "2012-11-01       941.0              299.0\n",
       "2012-12-01      1052.0              802.0"
      ]
     },
     "execution_count": 4,
     "metadata": {},
     "output_type": "execute_result"
    }
   ],
   "source": [
    "consumption_df_for_year(2012)"
   ]
  },
  {
   "cell_type": "markdown",
   "metadata": {},
   "source": [
    "Expected output - \n",
    "\n",
    "||UrbanUseML\t|AgriculturalUseML|\n",
    "| --- | --- | --- |\n",
    "|  Date   |     |     ||\n",
    "|2012-01-01\t|1093.0|\t976.0|\n",
    "|2012-02-01\t|1176.0\t|1023.0\n",
    "|2012-03-01\t|1119.0\t|846.0\n",
    "|2012-04-01\t|991.0\t|466.0\n",
    "|2012-05-01\t|873.0\t|52.0\n",
    "|2012-06-01\t|793.0\t|26.0\n",
    "|2012-07-01\t|757.0\t|25.0\n",
    "|2012-08-01\t|763.0\t|25.0\n",
    "|2012-09-01\t|791.0\t|26.0\n",
    "|2012-10-01\t|859.0\t|130.0\n",
    "|2012-11-01\t|941.0\t|299.0\n",
    "|2012-12-01\t|1052.0\t|802.0"
   ]
  },
  {
   "cell_type": "markdown",
   "metadata": {},
   "source": [
    "### Question 1 - Step 2\n",
    "As before, define a function that returns a dataframe containing `UrbanUseML`, `AgriculturalUseML`, and `Date` (as the index), but includes an additional column, called `CombinedUseML` which is the sum of `UrbanUseML` and `AgriculturalUseML` at every `Date`.\n",
    "<br><br>\n",
    "The column order should be:  `Date` *(as the index)* | `UrbanUseML` | `AgriculturalUseML` | `CombinedUseML`.\n",
    "<br><br>\n",
    "\n",
    "***You should use the function you defined in question 1.1 within this new function.***\n",
    "\n",
    "- The column formats should mimic those in Step 1\n"
   ]
  },
  {
   "cell_type": "code",
   "execution_count": 5,
   "metadata": {},
   "outputs": [],
   "source": [
    "def combined_consumption_df_for_year(year):\n",
    "    \n",
    "    local_df = consumption_df_for_year(year)\n",
    "    \n",
    "    # Create a column combining agricultural and urban use\n",
    "    local_df[\"CombinedUseML\"] = local_df.AgriculturalUseML + local_df.UrbanUseML\n",
    "    \n",
    "    return local_df"
   ]
  },
  {
   "cell_type": "code",
   "execution_count": 6,
   "metadata": {},
   "outputs": [
    {
     "data": {
      "text/html": [
       "<div>\n",
       "<style scoped>\n",
       "    .dataframe tbody tr th:only-of-type {\n",
       "        vertical-align: middle;\n",
       "    }\n",
       "\n",
       "    .dataframe tbody tr th {\n",
       "        vertical-align: top;\n",
       "    }\n",
       "\n",
       "    .dataframe thead th {\n",
       "        text-align: right;\n",
       "    }\n",
       "</style>\n",
       "<table border=\"1\" class=\"dataframe\">\n",
       "  <thead>\n",
       "    <tr style=\"text-align: right;\">\n",
       "      <th></th>\n",
       "      <th>UrbanUseML</th>\n",
       "      <th>AgriculturalUseML</th>\n",
       "      <th>CombinedUseML</th>\n",
       "    </tr>\n",
       "    <tr>\n",
       "      <th>Date</th>\n",
       "      <th></th>\n",
       "      <th></th>\n",
       "      <th></th>\n",
       "    </tr>\n",
       "  </thead>\n",
       "  <tbody>\n",
       "    <tr>\n",
       "      <th>2014-01-01</th>\n",
       "      <td>1061.0</td>\n",
       "      <td>986.0</td>\n",
       "      <td>2047.0</td>\n",
       "    </tr>\n",
       "    <tr>\n",
       "      <th>2014-02-01</th>\n",
       "      <td>1163.0</td>\n",
       "      <td>1032.0</td>\n",
       "      <td>2195.0</td>\n",
       "    </tr>\n",
       "    <tr>\n",
       "      <th>2014-03-01</th>\n",
       "      <td>1064.0</td>\n",
       "      <td>853.0</td>\n",
       "      <td>1917.0</td>\n",
       "    </tr>\n",
       "    <tr>\n",
       "      <th>2014-04-01</th>\n",
       "      <td>964.0</td>\n",
       "      <td>471.0</td>\n",
       "      <td>1435.0</td>\n",
       "    </tr>\n",
       "    <tr>\n",
       "      <th>2014-05-01</th>\n",
       "      <td>878.0</td>\n",
       "      <td>53.0</td>\n",
       "      <td>931.0</td>\n",
       "    </tr>\n",
       "    <tr>\n",
       "      <th>2014-06-01</th>\n",
       "      <td>741.0</td>\n",
       "      <td>27.0</td>\n",
       "      <td>768.0</td>\n",
       "    </tr>\n",
       "    <tr>\n",
       "      <th>2014-07-01</th>\n",
       "      <td>730.0</td>\n",
       "      <td>26.0</td>\n",
       "      <td>756.0</td>\n",
       "    </tr>\n",
       "    <tr>\n",
       "      <th>2014-08-01</th>\n",
       "      <td>755.0</td>\n",
       "      <td>26.0</td>\n",
       "      <td>781.0</td>\n",
       "    </tr>\n",
       "    <tr>\n",
       "      <th>2014-09-01</th>\n",
       "      <td>809.0</td>\n",
       "      <td>27.0</td>\n",
       "      <td>836.0</td>\n",
       "    </tr>\n",
       "    <tr>\n",
       "      <th>2014-10-01</th>\n",
       "      <td>917.0</td>\n",
       "      <td>132.0</td>\n",
       "      <td>1049.0</td>\n",
       "    </tr>\n",
       "    <tr>\n",
       "      <th>2014-11-01</th>\n",
       "      <td>1002.0</td>\n",
       "      <td>343.0</td>\n",
       "      <td>1345.0</td>\n",
       "    </tr>\n",
       "    <tr>\n",
       "      <th>2014-12-01</th>\n",
       "      <td>1168.0</td>\n",
       "      <td>919.0</td>\n",
       "      <td>2087.0</td>\n",
       "    </tr>\n",
       "  </tbody>\n",
       "</table>\n",
       "</div>"
      ],
      "text/plain": [
       "            UrbanUseML  AgriculturalUseML  CombinedUseML\n",
       "Date                                                    \n",
       "2014-01-01      1061.0              986.0         2047.0\n",
       "2014-02-01      1163.0             1032.0         2195.0\n",
       "2014-03-01      1064.0              853.0         1917.0\n",
       "2014-04-01       964.0              471.0         1435.0\n",
       "2014-05-01       878.0               53.0          931.0\n",
       "2014-06-01       741.0               27.0          768.0\n",
       "2014-07-01       730.0               26.0          756.0\n",
       "2014-08-01       755.0               26.0          781.0\n",
       "2014-09-01       809.0               27.0          836.0\n",
       "2014-10-01       917.0              132.0         1049.0\n",
       "2014-11-01      1002.0              343.0         1345.0\n",
       "2014-12-01      1168.0              919.0         2087.0"
      ]
     },
     "execution_count": 6,
     "metadata": {},
     "output_type": "execute_result"
    }
   ],
   "source": [
    "combined_consumption_df_for_year(2014)"
   ]
  },
  {
   "cell_type": "markdown",
   "metadata": {},
   "source": [
    "Expected output - \n",
    "\n",
    "\n",
    "|Date|UrbanUseML|\tAgriculturalUseML|\tCombinedUseML|\n",
    "| Date |  |  |\t\n",
    "| --- | --- | --- | --- |\t\n",
    "|2014-01-01\t|1061.0\t|986.0\t|2047.0|\n",
    "|2014-02-01\t|1163.0\t|1032.0\t|2195.0|\n",
    "|2014-03-01\t|1064.0\t|853.0\t|1917.0|\n",
    "|2014-04-01\t|964.0\t|471.0\t|1435.0|\n",
    "|2014-05-01\t|878.0\t|53.0\t|931.0|\n",
    "|2014-06-01\t|741.0\t|27.0\t|768.0|\n",
    "|2014-07-01\t|730.0\t|26.0\t|756.0|\n",
    "|2014-08-01\t|755.0\t|26.0\t|781.0|\n",
    "|2014-09-01\t|809.0\t|27.0\t|836.0|\n",
    "|2014-10-01\t|917.0\t|132.0\t|1049.0|\n",
    "|2014-11-01\t|1002.0\t|343.0\t|1345.0|\n",
    "|2014-12-01\t|1168.0\t|919.0\t|2087.0|"
   ]
  },
  {
   "cell_type": "markdown",
   "metadata": {},
   "source": [
    "### Question 1 - Step 3\n",
    "Create a function that queries and reports on water consumption for a particular year.\n",
    "\n",
    "The report should take a year (integer) as an argument, and return a Python Dictionary in the following format:\n",
    "```\n",
    "{\n",
    "\n",
    "    'urban': {\n",
    "\n",
    "            'average': average urban monthly consumption for the year,\n",
    "            'median': median urban monthly consumption for the year,\n",
    "            'min': minimum urban monthly consumption for the year,\n",
    "            'max': maximum urban monthly consumption for the year,\n",
    "            'total': total urban consumption for the year,\n",
    "        }\n",
    "    \n",
    "    'agriculture': {\n",
    "\n",
    "            'average': average agriculture monthly consumption for the year,\n",
    "            'median': median agriculture monthly consumption for the year,\n",
    "            'min': minimum agriculture monthly consumption for the year,\n",
    "            'max': maximum agriculture monthly consumption for the year,\n",
    "            'total': total agriculture consumption for the year,\n",
    "        }\n",
    "        \n",
    "    'combined': {\n",
    "\n",
    "            'average': average combined monthly consumption for the year,\n",
    "            'median': median combined monthly consumption for the year,\n",
    "            'min': minimum combined monthly consumption for the year,\n",
    "            'max': maximum combined monthly consumption for the year,\n",
    "            'total': total combined consumption for the year,\n",
    "        }\n",
    "}\n",
    "```\n",
    "\n",
    "All reported values in the dictionary should be of `float` type **rounded to 2 decimal values**.  And should only contain data pertaining to the `year` passed as an argument.\n",
    "\n",
    "The report should be a dictionary where the key is the type (urban, agriculture etc), and the value inside is **another dictionary** containing statistics\n",
    "\n",
    "\n",
    "The `combined` part of the report combines both urban and agricultural consumption.\n",
    "\n",
    "***You should use the function you defined in question 1.2 inside this function.***"
   ]
  },
  {
   "cell_type": "code",
   "execution_count": 7,
   "metadata": {},
   "outputs": [],
   "source": [
    "def consumption_report(year):\n",
    "    \n",
    "    local_df = combined_consumption_df_for_year(year)\n",
    "    \n",
    "    report = {\n",
    "\n",
    "        'urban': {\n",
    "                'average': round(float(local_df.UrbanUseML.mean()), 2),\n",
    "                'median': round(float(local_df.UrbanUseML.median()), 2),\n",
    "                'min': round(float(local_df.UrbanUseML.min()), 2), \n",
    "                'max': round(float(local_df.UrbanUseML.max()), 2), \n",
    "                'total': round(float(local_df.UrbanUseML.sum()), 2),\n",
    "            },\n",
    "\n",
    "        'agriculture': {\n",
    "                'average': round(float(local_df.AgriculturalUseML.mean()), 2), \n",
    "                'median': round(float(local_df.AgriculturalUseML.median()), 2),\n",
    "                'min': round(float(local_df.AgriculturalUseML.min()), 2), \n",
    "                'max': round(float(local_df.AgriculturalUseML.max()), 2), \n",
    "                'total': round(float(local_df.AgriculturalUseML.sum()), 2),\n",
    "            },\n",
    "\n",
    "        'combined': {\n",
    "                'average': round(float(local_df.CombinedUseML.mean()), 2), \n",
    "                'median': round(float(local_df.CombinedUseML.median()), 2),\n",
    "                'min': round(float(local_df.CombinedUseML.min()), 2), \n",
    "                'max': round(float(local_df.CombinedUseML.max()), 2), \n",
    "                'total': round(float(local_df.CombinedUseML.sum()), 2), \n",
    "            }\n",
    "    }\n",
    "    \n",
    "    return report"
   ]
  },
  {
   "cell_type": "code",
   "execution_count": 8,
   "metadata": {},
   "outputs": [
    {
     "data": {
      "text/plain": [
       "{'agriculture': {'average': 369.08,\n",
       "  'max': 914.0,\n",
       "  'median': 228.0,\n",
       "  'min': 22.0,\n",
       "  'total': 4429.0},\n",
       " 'combined': {'average': 1319.33,\n",
       "  'max': 2033.0,\n",
       "  'median': 1164.0,\n",
       "  'min': 793.0,\n",
       "  'total': 15832.0},\n",
       " 'urban': {'average': 950.25,\n",
       "  'max': 1148.0,\n",
       "  'median': 936.0,\n",
       "  'min': 771.0,\n",
       "  'total': 11403.0}}"
      ]
     },
     "execution_count": 8,
     "metadata": {},
     "output_type": "execute_result"
    }
   ],
   "source": [
    "consumption_report(year=2010)"
   ]
  },
  {
   "cell_type": "markdown",
   "metadata": {},
   "source": [
    "Expected output - <br>\n",
    "<br>\n",
    "{'agriculture': {'average': 369.08,<br>\n",
    "  'max': 914.0,<br>\n",
    "  'median': 228.0,<br>\n",
    "  'min': 22.0,<br>\n",
    "  'total': 4429.0},<br>\n",
    " 'combined': {'average': 1319.33,<br>\n",
    "  'max': 2033.0,<br>\n",
    "  'median': 1164.0,<br>\n",
    "  'min': 793.0,<br>\n",
    "  'total': 15832.0},<br>\n",
    " 'urban': {'average': 950.25,<br>\n",
    "  'max': 1148.0,<br>\n",
    "  'median': 936.0,<br>\n",
    "  'min': 771.0,<br>\n",
    "  'total': 11403.0}}<br>"
   ]
  },
  {
   "cell_type": "markdown",
   "metadata": {},
   "source": [
    "# Question 2\n",
    "Create a function that reports on outliers in the water consumption data.\n",
    "<br><br>\n",
    "An outlier is a monthly consumption figure that is:\n",
    "<br>\n",
    "- either ***less than two standard deviations below the mean*** (overall) water consumption level, or\n",
    "- ***greater than two standard deviations above the mean*** (overall) water consumption level.\n",
    "<br><br>\n",
    "- Your function should be able to report these outliers for `agricultural` consumption, `urban` consumption or `combined` (urban + agricultural) consumption.\n",
    "<br>\n",
    "\n",
    "- It should take a single argument, consumption_type, which can take on one of 3 `str` values:  `urban`, `agricultural`, or combined`. It should report the applicable outliers when passed either of these strings.\n",
    "\n",
    "<br>\n",
    "- The key should be the date of the outlier, and the value should be the (requested) outlier consumption in ML.\n",
    "<br>\n",
    "- If consumption_type is not one of `urban`, `agricultural` or `combined`, your code should raise a ValueError.\n",
    "<br>\n",
    "- The report should be returned as a dictionary in the form:\n",
    "<br>\n",
    "```\n",
    "{\n",
    "    datestring: combined / agricultural / urban consumption\n",
    "}\n",
    "```\n",
    "<br>\n",
    "- The datestring should be the date of the outlier measurement as `str`, in the format `yyyy-mm` (e.g. `2014-01`).\n",
    "<br>\n",
    "- The consumption should be in megalitres (Ml), as a `float` and rounded to 2 decimal places."
   ]
  },
  {
   "cell_type": "code",
   "execution_count": 44,
   "metadata": {},
   "outputs": [],
   "source": [
    "def outliers(consumption_type):\n",
    "    \n",
    "    # Set up the dataframe by creating a copy of the WaterConsumption table\n",
    "    local_df = water_consumption_df.copy()\n",
    "    \n",
    "    # Convert the dates to  Date:\n",
    "    local_df.loc[:,\"Date\"] = pd.to_datetime(local_df.Date)\n",
    "    \n",
    "    # Create a column combining agricultural and urban use\n",
    "    local_df[\"CombinedML\"] = local_df.AgriculturalUseML + local_df.UrbanUseML\n",
    "    \n",
    "    # Check for the consumption type argument\n",
    "    if consumption_type == \"combined\":\n",
    "        consumption = local_df.CombinedML\n",
    "    elif consumption_type == \"urban\":\n",
    "        consumption = local_df.UrbanUseML\n",
    "    elif consumption_type == \"agricultural\":\n",
    "        consumption = local_df.AgriculturalUseML\n",
    "    else:\n",
    "        raise ValueError(\"`consumption_type` should be one of: \"\n",
    "                         \"`combined` / `urban` / `agricultural`\")\n",
    "\n",
    "    # Create an indicator series filtering for outliers\n",
    "    lower_outliers = consumption < consumption.mean() - 2*consumption.std()\n",
    "    upper_outliers = consumption > consumption.mean() + 2*consumption.std()\n",
    "    \n",
    "    outliers = upper_outliers | lower_outliers\n",
    "\n",
    "    # Set up a report of all the outliers and return it.\n",
    "    report = {\n",
    "        row.Date.strftime('%Y-%m'): consumption[ix] \n",
    "        for ix, row in local_df[outliers].iterrows()\n",
    "    }\n",
    "    \n",
    "    return report"
   ]
  },
  {
   "cell_type": "code",
   "execution_count": 45,
   "metadata": {},
   "outputs": [
    {
     "data": {
      "text/plain": [
       "{'2015-01': 2427.0, '2015-02': 2507.0}"
      ]
     },
     "execution_count": 45,
     "metadata": {},
     "output_type": "execute_result"
    }
   ],
   "source": [
    "outliers('combined')"
   ]
  },
  {
   "cell_type": "raw",
   "metadata": {},
   "source": [
    "Expected output - \n",
    "\n",
    "{'2015-01': 2427.0, '2015-02': 2507.0}"
   ]
  },
  {
   "cell_type": "markdown",
   "metadata": {},
   "source": [
    "# Question 3\n",
    "We need to analyse how rainfall affects dam levels. In order to do this, we  can first try to find the closest weather stations to each dam.\n",
    "\n",
    "Write a function that takes a dam name as an argument (`dam_name`) and uses the `dam_df` and `rain_station_df` to calculate the euclidean distance (in degrees) of each rain station from the dam in question.\n",
    "\n",
    "Your function should return a dictionary in the format:\n",
    "\n",
    "```\n",
    "{\n",
    "    station_name: euclidean distance from dam_name as a float, rounded to 3 decimals\n",
    "}\n",
    "```\n",
    "\n",
    "**NOTE:  Round your distances to 3 decimal places**\n",
    "\n",
    "Use the following formula for the distance:\n",
    "\n",
    "```\n",
    "delta_x = dam_longitude - station_longitude\n",
    "delta_y = dam_latitude - station_latitude\n",
    "\n",
    "distance = sqrt( delta_x^2 + delta_y^2 )\n",
    "```\n",
    "\n",
    "That is:\n",
    "<br>\n",
    "$$\\Delta x = longitude_{dam} - longitude_{station}$$\n",
    "<br>\n",
    "$$\\Delta y = latitude_{dam} - latitude_{station}$$\n",
    "<br>\n",
    "$$distance = \\sqrt{{\\Delta x}^2 + {\\Delta y}^2}$$"
   ]
  },
  {
   "cell_type": "code",
   "execution_count": 14,
   "metadata": {},
   "outputs": [],
   "source": [
    "def station_distance_to_dam(dam_name):\n",
    "    \n",
    "    # Filter for the dam in question, and set the index to the Dam Name\n",
    "    dam = dam_df.set_index('DamName').loc[dam_name]\n",
    "    \n",
    "    # Calculate the  distances and add them to a dictionary\n",
    "    distances = {}\n",
    "\n",
    "    for jx, station in rain_station_df.set_index('RainStationName').iterrows():\n",
    "        x = dam.Latitude - station.Latitude\n",
    "        y = dam.Longitude - station.Longitude\n",
    "        \n",
    "        distance = (x**2 + y**2)**0.5\n",
    "        \n",
    "        distances[jx] = round(float(distance), 3)\n",
    "        \n",
    "    return distances"
   ]
  },
  {
   "cell_type": "code",
   "execution_count": 15,
   "metadata": {},
   "outputs": [
    {
     "data": {
      "text/plain": [
       "{'ASSEGAAIBOS': 0.661,\n",
       " 'BERGDUMP': 1.287,\n",
       " 'CERES': 1.069,\n",
       " 'HAWEQWAS': 0.858,\n",
       " 'HIGGOVALE': 0.048,\n",
       " 'JONKERSHOEK': 0.543,\n",
       " 'KOGEL_BAAI': 0.486,\n",
       " 'KWAGGASKLOOF': 1.091,\n",
       " 'NEWLAND': 0.047,\n",
       " 'STEENBRAS LOWER': 0.5,\n",
       " 'TAFELBERG': 0.007,\n",
       " 'THEEWATERSKLOOF': 0.89,\n",
       " 'VOLELVLEI': 0.904,\n",
       " 'ZACHARIASHOEK': 0.673}"
      ]
     },
     "execution_count": 15,
     "metadata": {},
     "output_type": "execute_result"
    }
   ],
   "source": [
    "station_distance_to_dam(\"VICTORIA\")"
   ]
  },
  {
   "cell_type": "markdown",
   "metadata": {},
   "source": [
    "Expected output - <br>\n",
    "<br>\n",
    "\n",
    "{'ASSEGAAIBOS': 0.661,<br>\n",
    " 'BERGDUMP': 1.287,<br>\n",
    " 'CERES': 1.069,<br>\n",
    " 'HAWEQWAS': 0.858,<br>\n",
    " 'HIGGOVALE': 0.048,<br>\n",
    " 'JONKERSHOEK': 0.543,<br>\n",
    " 'KOGEL_BAAI': 0.486,<br>\n",
    " 'KWAGGASKLOOF': 1.091,<br>\n",
    " 'NEWLAND': 0.047,<br>\n",
    " 'STEENBRAS LOWER': 0.5,<br>\n",
    " 'TAFELBERG': 0.007,<br>\n",
    " 'THEEWATERSKLOOF': 0.89,<br>\n",
    " 'VOLELVLEI': 0.904,<br>\n",
    " 'ZACHARIASHOEK': 0.673}"
   ]
  },
  {
   "cell_type": "markdown",
   "metadata": {},
   "source": [
    "# Question 4\n",
    "\n",
    "After some thought, you realise that the closest weather stations might not be the best indication of change in the dam levels. Question 4 will investigate this hypothesis.\n",
    "\n",
    "In order to find out which weather stations are most correlated with changes in dam levels, write a function that calculates the correlation between the **change in the level of a particular dam** and the rainfall measurements from each rainstation."
   ]
  },
  {
   "cell_type": "markdown",
   "metadata": {},
   "source": [
    "### Question - Step 1:\n",
    "The first thing we need to do is get the actual dam data in a DataFrame.\n",
    "\n",
    "Create a function that takes a dam name as an argument (`dam_name`) and returns a DataFrame containing the `StorageML` values for the dam against each `Date`.\n",
    "\n",
    "***Dataframe Specifications***:<br>\n",
    "The DataFrame should *only* have **two columns**:\n",
    "\n",
    "- A `Date` column as a Timestamp (i.e. in the `datetime` format). \n",
    "- A `StorageML` column containing the storage in megalitres as a `float` type.\n",
    "<br><br> \n",
    "**The `Date` column should also be the index of the dataframe.**"
   ]
  },
  {
   "cell_type": "code",
   "execution_count": 111,
   "metadata": {},
   "outputs": [],
   "source": [
    "def levels_for_dam(dam_name):\n",
    "    \n",
    "    # Set up the dataframe by joining Dam and DamLevel\n",
    "    local_df = dam_level_df.join(\n",
    "        dam_df.set_index(\"DamId\"), \n",
    "        on='DamId', \n",
    "        how='left'\n",
    "    )\n",
    "    \n",
    "    # Filter for the dam_name and sort by date\n",
    "    df = local_df[local_df.DamName == dam_name].sort_values('Date')\n",
    "\n",
    "    # Convert the date to datetime format\n",
    "    df['Date'] = pd.to_datetime(df.Date)\n",
    "\n",
    "    # Set Date as the index \n",
    "    df.set_index('Date', inplace=True)\n",
    "    \n",
    "    return df[['StorageML']]"
   ]
  },
  {
   "cell_type": "code",
   "execution_count": 112,
   "metadata": {},
   "outputs": [
    {
     "data": {
      "text/html": [
       "<div>\n",
       "<style scoped>\n",
       "    .dataframe tbody tr th:only-of-type {\n",
       "        vertical-align: middle;\n",
       "    }\n",
       "\n",
       "    .dataframe tbody tr th {\n",
       "        vertical-align: top;\n",
       "    }\n",
       "\n",
       "    .dataframe thead th {\n",
       "        text-align: right;\n",
       "    }\n",
       "</style>\n",
       "<table border=\"1\" class=\"dataframe\">\n",
       "  <thead>\n",
       "    <tr style=\"text-align: right;\">\n",
       "      <th></th>\n",
       "      <th>StorageML</th>\n",
       "    </tr>\n",
       "    <tr>\n",
       "      <th>Date</th>\n",
       "      <th></th>\n",
       "    </tr>\n",
       "  </thead>\n",
       "  <tbody>\n",
       "    <tr>\n",
       "      <th>2012-01-01</th>\n",
       "      <td>23549.0</td>\n",
       "    </tr>\n",
       "    <tr>\n",
       "      <th>2012-01-02</th>\n",
       "      <td>23460.0</td>\n",
       "    </tr>\n",
       "    <tr>\n",
       "      <th>2012-01-03</th>\n",
       "      <td>23372.0</td>\n",
       "    </tr>\n",
       "    <tr>\n",
       "      <th>2012-01-04</th>\n",
       "      <td>23313.0</td>\n",
       "    </tr>\n",
       "    <tr>\n",
       "      <th>2012-01-05</th>\n",
       "      <td>23224.0</td>\n",
       "    </tr>\n",
       "  </tbody>\n",
       "</table>\n",
       "</div>"
      ],
      "text/plain": [
       "            StorageML\n",
       "Date                 \n",
       "2012-01-01    23549.0\n",
       "2012-01-02    23460.0\n",
       "2012-01-03    23372.0\n",
       "2012-01-04    23313.0\n",
       "2012-01-05    23224.0"
      ]
     },
     "execution_count": 112,
     "metadata": {},
     "output_type": "execute_result"
    }
   ],
   "source": [
    "levels_for_dam('STEENBRAS LOWER').head()"
   ]
  },
  {
   "cell_type": "markdown",
   "metadata": {},
   "source": [
    "Expected output - \n",
    "\n",
    "|Date\t|StorageML|\n",
    "| --- | --- |\n",
    "|2012-01-01\t|23549.0|\n",
    "|2012-01-02\t|23460.0|\n",
    "|2012-01-03\t|23372.0|\n",
    "|2012-01-04\t|23313.0|\n",
    "|2012-01-05\t|23224.0|"
   ]
  },
  {
   "cell_type": "markdown",
   "metadata": {},
   "source": [
    "### Question 4 - Step 2:\n",
    "The second step is figuring out how the level of a particular dam changes over time.\n",
    "<br><br>\n",
    "Write a function, `delta_storage` that takes a dam name as an argument (`dam_name`), and returns a dataframe describing how `dam_name`'s level changed on that day (i.e. by how much it increased / decreased).\n",
    "<br><br>\n",
    "\n",
    "***Dataframe Specifications***\n",
    "<br>\n",
    "- The `Date` column should be a Timestamp (i.e. in the `datetime` format). \n",
    "<br>\n",
    "- The `DeltaStorageML` column should be of `float` type.\n",
    "<br>\n",
    "- The `Date` column should also be the index of the dataframe.\n",
    "<br><br>\n",
    "***HINTS*** <br>\n",
    "- The change in a column of a dataframe can be calculated by using\n",
    "```\n",
    "df[[\"some_column\"]].diff()\n",
    "```<br>\n",
    "- The very first row in the `DeltaStorageML` column will be `nan` since there is no previous value to calculate a change in storage from.  This is correct.\n",
    "<br>\n",
    "- You should use the function you created in step 1.\n",
    "- This will be a very short function, around 4 lines of code."
   ]
  },
  {
   "cell_type": "code",
   "execution_count": 113,
   "metadata": {},
   "outputs": [],
   "source": [
    "def delta_storage(dam_name):\n",
    "    df = levels_for_dam(dam_name)\n",
    "    \n",
    "    # Take the difference of the columns\n",
    "    df_diff = df.diff()\n",
    "    \n",
    "    return df_diff.rename(columns={'StorageML': 'DeltaStorageML'})"
   ]
  },
  {
   "cell_type": "code",
   "execution_count": 114,
   "metadata": {},
   "outputs": [
    {
     "data": {
      "text/html": [
       "<div>\n",
       "<style scoped>\n",
       "    .dataframe tbody tr th:only-of-type {\n",
       "        vertical-align: middle;\n",
       "    }\n",
       "\n",
       "    .dataframe tbody tr th {\n",
       "        vertical-align: top;\n",
       "    }\n",
       "\n",
       "    .dataframe thead th {\n",
       "        text-align: right;\n",
       "    }\n",
       "</style>\n",
       "<table border=\"1\" class=\"dataframe\">\n",
       "  <thead>\n",
       "    <tr style=\"text-align: right;\">\n",
       "      <th></th>\n",
       "      <th>DeltaStorageML</th>\n",
       "    </tr>\n",
       "    <tr>\n",
       "      <th>Date</th>\n",
       "      <th></th>\n",
       "    </tr>\n",
       "  </thead>\n",
       "  <tbody>\n",
       "    <tr>\n",
       "      <th>2012-01-01</th>\n",
       "      <td>NaN</td>\n",
       "    </tr>\n",
       "    <tr>\n",
       "      <th>2012-01-02</th>\n",
       "      <td>-89.0</td>\n",
       "    </tr>\n",
       "    <tr>\n",
       "      <th>2012-01-03</th>\n",
       "      <td>-88.0</td>\n",
       "    </tr>\n",
       "    <tr>\n",
       "      <th>2012-01-04</th>\n",
       "      <td>-59.0</td>\n",
       "    </tr>\n",
       "    <tr>\n",
       "      <th>2012-01-05</th>\n",
       "      <td>-89.0</td>\n",
       "    </tr>\n",
       "  </tbody>\n",
       "</table>\n",
       "</div>"
      ],
      "text/plain": [
       "            DeltaStorageML\n",
       "Date                      \n",
       "2012-01-01             NaN\n",
       "2012-01-02           -89.0\n",
       "2012-01-03           -88.0\n",
       "2012-01-04           -59.0\n",
       "2012-01-05           -89.0"
      ]
     },
     "execution_count": 114,
     "metadata": {},
     "output_type": "execute_result"
    }
   ],
   "source": [
    "delta_storage('STEENBRAS LOWER').head()"
   ]
  },
  {
   "cell_type": "markdown",
   "metadata": {},
   "source": [
    "Expected output - \n",
    "\n",
    "\n",
    "|Date |DeltaStorageML|\n",
    "| --- | --- |\n",
    "|2012-01-01\t|NaN|\n",
    "|2012-01-02\t|89.0|\n",
    "|2012-01-03\t|88.0|\n",
    "|2012-01-04\t|59.0|\n",
    "|2012-01-05\t|89.0|"
   ]
  },
  {
   "cell_type": "markdown",
   "metadata": {},
   "source": [
    "### Question 4 - Step 3:\n",
    "Next, we need to sum these differences over each month.\n",
    "\n",
    "Write a function that takes the dam_name as an argument and returns the change in the dam level (in Megalitres) for that particular month.\n",
    "\n",
    "The dataframe should have three columns: a `Year` column, `Month` column and a `DeltaStorageML` column, which is **the change** in storage for that particular month.\n",
    "\n",
    "\n",
    "***Dataframe Specifications***\n",
    "- The `Year` column should be of `int` type.\n",
    "- The `Month` column should also be of `int` type.\n",
    "- The `DeltaStorageML` column should be of `float` type.\n",
    "<br><br>\n",
    "- The column order should be:  `Year` *(part of the index)* **|** `Month` *(part of the index)* **|** `DeltaStorageML`.\n",
    "\n",
    "***HINT***\n",
    "- Use the function you created in Step 3.\n",
    "- Use a `groupby` to aggregate over each month.\n",
    "- This should be a very short function, around 6 lines."
   ]
  },
  {
   "cell_type": "code",
   "execution_count": 115,
   "metadata": {},
   "outputs": [],
   "source": [
    "def monthly_delta_storage(dam_name):\n",
    "    df_diff = delta_storage(dam_name)\n",
    "    \n",
    "    # Aggregate the change in dam levels by month\n",
    "    grouped_df_diff = df_diff.groupby(\n",
    "        by=[df_diff.index.year, df_diff.index.month]\n",
    "    ).sum()\n",
    "    \n",
    "    grouped_df_diff.rename_axis(['Year', 'Month'], inplace=True)\n",
    "    \n",
    "    return grouped_df_diff"
   ]
  },
  {
   "cell_type": "code",
   "execution_count": 116,
   "metadata": {},
   "outputs": [
    {
     "data": {
      "text/html": [
       "<div>\n",
       "<style scoped>\n",
       "    .dataframe tbody tr th:only-of-type {\n",
       "        vertical-align: middle;\n",
       "    }\n",
       "\n",
       "    .dataframe tbody tr th {\n",
       "        vertical-align: top;\n",
       "    }\n",
       "\n",
       "    .dataframe thead th {\n",
       "        text-align: right;\n",
       "    }\n",
       "</style>\n",
       "<table border=\"1\" class=\"dataframe\">\n",
       "  <thead>\n",
       "    <tr style=\"text-align: right;\">\n",
       "      <th></th>\n",
       "      <th></th>\n",
       "      <th>DeltaStorageML</th>\n",
       "    </tr>\n",
       "    <tr>\n",
       "      <th>Year</th>\n",
       "      <th>Month</th>\n",
       "      <th></th>\n",
       "    </tr>\n",
       "  </thead>\n",
       "  <tbody>\n",
       "    <tr>\n",
       "      <th rowspan=\"5\" valign=\"top\">2012</th>\n",
       "      <th>1</th>\n",
       "      <td>-2425.0</td>\n",
       "    </tr>\n",
       "    <tr>\n",
       "      <th>2</th>\n",
       "      <td>-2714.0</td>\n",
       "    </tr>\n",
       "    <tr>\n",
       "      <th>3</th>\n",
       "      <td>-3342.0</td>\n",
       "    </tr>\n",
       "    <tr>\n",
       "      <th>4</th>\n",
       "      <td>-66.0</td>\n",
       "    </tr>\n",
       "    <tr>\n",
       "      <th>5</th>\n",
       "      <td>-154.0</td>\n",
       "    </tr>\n",
       "  </tbody>\n",
       "</table>\n",
       "</div>"
      ],
      "text/plain": [
       "            DeltaStorageML\n",
       "Year Month                \n",
       "2012 1             -2425.0\n",
       "     2             -2714.0\n",
       "     3             -3342.0\n",
       "     4               -66.0\n",
       "     5              -154.0"
      ]
     },
     "execution_count": 116,
     "metadata": {},
     "output_type": "execute_result"
    }
   ],
   "source": [
    "monthly_delta_storage('STEENBRAS LOWER').head()"
   ]
  },
  {
   "cell_type": "markdown",
   "metadata": {},
   "source": [
    "Expected output - \n",
    "\n",
    "|Year| Month|DeltaStorageML|\n",
    "| --- | --- | --- |\n",
    "|2012|1|-2425.0|\n",
    "||2|\t-2714.0|\n",
    "||3\t|-3342.0|\n",
    "||4\t|-66.0|\n",
    "||5|\t-154.0|"
   ]
  },
  {
   "cell_type": "markdown",
   "metadata": {},
   "source": [
    "### Question 4 - Step 4\n",
    "Next, we need to get a handle on the rain data.\n",
    "\n",
    "Create a function that takes a station name as an argument (`station_name`) and returns a DataFrame containing the `PrecipitationMM` values for the station against each `Date`.\n",
    "\n",
    "***Dataframe Specifications***:<br>\n",
    "The DataFrame should *only have* **two columns**:\n",
    "\n",
    "- A `Date` column in the `datetime` format. \n",
    "- A `PrecipitationMM` column containing the Precipitation in millilitres  as a `float64` type.\n",
    "\n",
    "- **The `Date` column should also be the index of the dataframe.**"
   ]
  },
  {
   "cell_type": "code",
   "execution_count": 117,
   "metadata": {},
   "outputs": [],
   "source": [
    "def precip_for_station(station_name):\n",
    "    \n",
    "    # Set up the dataframe by joining Rainfall and RainStation\n",
    "    local_df = rainfall_df.join(\n",
    "        rain_station_df.set_index(\"StationId\"), \n",
    "        on='StationId', \n",
    "        how='left'\n",
    "    )\n",
    "    \n",
    "    # Filter by the station name\n",
    "    rain_df = local_df[local_df.RainStationName == station_name]\n",
    "\n",
    "    # Convert date to a datetime format\n",
    "    dates = pd.to_datetime(rain_df.Date)\n",
    "    rain_df.loc[:, 'Date'] = dates\n",
    "\n",
    "    # Set Date as the index and PrecipitationMM \n",
    "    rain_df = rain_df.set_index('Date')[['PrecipitationMM']]\n",
    "\n",
    "    return rain_df"
   ]
  },
  {
   "cell_type": "code",
   "execution_count": 118,
   "metadata": {},
   "outputs": [
    {
     "name": "stderr",
     "output_type": "stream",
     "text": [
      "C:\\Users\\User\\Anaconda3\\envs\\edsa\\lib\\site-packages\\pandas\\core\\indexing.py:537: SettingWithCopyWarning: \n",
      "A value is trying to be set on a copy of a slice from a DataFrame.\n",
      "Try using .loc[row_indexer,col_indexer] = value instead\n",
      "\n",
      "See the caveats in the documentation: http://pandas.pydata.org/pandas-docs/stable/indexing.html#indexing-view-versus-copy\n",
      "  self.obj[item] = s\n"
     ]
    },
    {
     "data": {
      "text/html": [
       "<div>\n",
       "<style scoped>\n",
       "    .dataframe tbody tr th:only-of-type {\n",
       "        vertical-align: middle;\n",
       "    }\n",
       "\n",
       "    .dataframe tbody tr th {\n",
       "        vertical-align: top;\n",
       "    }\n",
       "\n",
       "    .dataframe thead th {\n",
       "        text-align: right;\n",
       "    }\n",
       "</style>\n",
       "<table border=\"1\" class=\"dataframe\">\n",
       "  <thead>\n",
       "    <tr style=\"text-align: right;\">\n",
       "      <th></th>\n",
       "      <th>PrecipitationMM</th>\n",
       "    </tr>\n",
       "    <tr>\n",
       "      <th>Date</th>\n",
       "      <th></th>\n",
       "    </tr>\n",
       "  </thead>\n",
       "  <tbody>\n",
       "    <tr>\n",
       "      <th>1974-10-01</th>\n",
       "      <td>151.0</td>\n",
       "    </tr>\n",
       "    <tr>\n",
       "      <th>1974-11-01</th>\n",
       "      <td>105.0</td>\n",
       "    </tr>\n",
       "    <tr>\n",
       "      <th>1974-12-01</th>\n",
       "      <td>27.6</td>\n",
       "    </tr>\n",
       "    <tr>\n",
       "      <th>1975-01-01</th>\n",
       "      <td>71.0</td>\n",
       "    </tr>\n",
       "    <tr>\n",
       "      <th>1975-02-01</th>\n",
       "      <td>15.1</td>\n",
       "    </tr>\n",
       "  </tbody>\n",
       "</table>\n",
       "</div>"
      ],
      "text/plain": [
       "            PrecipitationMM\n",
       "Date                       \n",
       "1974-10-01            151.0\n",
       "1974-11-01            105.0\n",
       "1974-12-01             27.6\n",
       "1975-01-01             71.0\n",
       "1975-02-01             15.1"
      ]
     },
     "execution_count": 118,
     "metadata": {},
     "output_type": "execute_result"
    }
   ],
   "source": [
    "precip_for_station('TAFELBERG').head()"
   ]
  },
  {
   "cell_type": "markdown",
   "metadata": {},
   "source": [
    "Expected output - \n",
    "\n",
    "|  | PrecipitationMM |\n",
    "| --- | --- | \n",
    "| Date |  |\n",
    "|1974-10-01 |151.0|\n",
    "|1974-11-01 | 105.0|\n",
    "|1974-12-01 | 27.6|\n",
    "|1975-01-01 | 71.0|\n",
    "|1975-02-01 | 15.1|"
   ]
  },
  {
   "cell_type": "markdown",
   "metadata": {},
   "source": [
    "### Question 4 - Step 5\n",
    "\n",
    "Next, we need to sum up these rainfall measurements for each month.\n",
    "\n",
    "Write a function that takes a `station_name` as an argument and returns the total rainfall by month.\n",
    "\n",
    "\n",
    "***Dataframe Specifications***\n",
    "- The `Year` column should be of `int` type.\n",
    "- The `Month` column should also be of `int` type.\n",
    "- The `PrecipitationMM` column should be of `float` type.\n",
    "\n",
    "\n",
    "- Both `Year` and `Month` should form part of the index (with each unique year only appearing once).\n",
    "- The column order should be:  `Year` | `Month` | `PrecipitationMM`.\n",
    "\n",
    "***HINT***\n",
    "- Use the function you created in Step 4.\n",
    "- This should be a very short function, around 6 lines."
   ]
  },
  {
   "cell_type": "code",
   "execution_count": 119,
   "metadata": {},
   "outputs": [],
   "source": [
    "def monthly_precipitation(station_name):\n",
    "    rain_df = precip_for_station(station_name)\n",
    "        \n",
    "    grouped_rain_df = rain_df.groupby(\n",
    "        by=[rain_df.index.year, rain_df.index.month]\n",
    "    ).sum()\n",
    "    \n",
    "    grouped_rain_df.rename_axis(['Year', 'Month'], inplace=True)\n",
    "    \n",
    "    return grouped_rain_df"
   ]
  },
  {
   "cell_type": "code",
   "execution_count": 120,
   "metadata": {},
   "outputs": [
    {
     "name": "stderr",
     "output_type": "stream",
     "text": [
      "C:\\Users\\User\\Anaconda3\\envs\\edsa\\lib\\site-packages\\pandas\\core\\indexing.py:537: SettingWithCopyWarning: \n",
      "A value is trying to be set on a copy of a slice from a DataFrame.\n",
      "Try using .loc[row_indexer,col_indexer] = value instead\n",
      "\n",
      "See the caveats in the documentation: http://pandas.pydata.org/pandas-docs/stable/indexing.html#indexing-view-versus-copy\n",
      "  self.obj[item] = s\n"
     ]
    },
    {
     "data": {
      "text/html": [
       "<div>\n",
       "<style scoped>\n",
       "    .dataframe tbody tr th:only-of-type {\n",
       "        vertical-align: middle;\n",
       "    }\n",
       "\n",
       "    .dataframe tbody tr th {\n",
       "        vertical-align: top;\n",
       "    }\n",
       "\n",
       "    .dataframe thead th {\n",
       "        text-align: right;\n",
       "    }\n",
       "</style>\n",
       "<table border=\"1\" class=\"dataframe\">\n",
       "  <thead>\n",
       "    <tr style=\"text-align: right;\">\n",
       "      <th></th>\n",
       "      <th></th>\n",
       "      <th>PrecipitationMM</th>\n",
       "    </tr>\n",
       "    <tr>\n",
       "      <th>Year</th>\n",
       "      <th>Month</th>\n",
       "      <th></th>\n",
       "    </tr>\n",
       "  </thead>\n",
       "  <tbody>\n",
       "    <tr>\n",
       "      <th rowspan=\"3\" valign=\"top\">1999</th>\n",
       "      <th>10</th>\n",
       "      <td>0.0</td>\n",
       "    </tr>\n",
       "    <tr>\n",
       "      <th>11</th>\n",
       "      <td>76.0</td>\n",
       "    </tr>\n",
       "    <tr>\n",
       "      <th>12</th>\n",
       "      <td>35.0</td>\n",
       "    </tr>\n",
       "    <tr>\n",
       "      <th rowspan=\"2\" valign=\"top\">2000</th>\n",
       "      <th>1</th>\n",
       "      <td>33.5</td>\n",
       "    </tr>\n",
       "    <tr>\n",
       "      <th>2</th>\n",
       "      <td>0.0</td>\n",
       "    </tr>\n",
       "  </tbody>\n",
       "</table>\n",
       "</div>"
      ],
      "text/plain": [
       "            PrecipitationMM\n",
       "Year Month                 \n",
       "1999 10                 0.0\n",
       "     11                76.0\n",
       "     12                35.0\n",
       "2000 1                 33.5\n",
       "     2                  0.0"
      ]
     },
     "execution_count": 120,
     "metadata": {},
     "output_type": "execute_result"
    }
   ],
   "source": [
    "monthly_precipitation('CERES').head()"
   ]
  },
  {
   "cell_type": "markdown",
   "metadata": {},
   "source": [
    "Expected output - \n",
    "\t\n",
    "| |  | PrecipitationMM|\n",
    "| --- | --- | --- |\n",
    "|Year | Month | |\n",
    "|1999 | 10 | 0.0|\n",
    "||11 | 76.0|\n",
    "||12 | 35.0|\n",
    "|2000|1 | 33.5|\n",
    "||2|0.0|"
   ]
  },
  {
   "cell_type": "markdown",
   "metadata": {},
   "source": [
    "# Question 4 - Step 6\n",
    "Next, we need to somehow combine the rainfall and dam level measurements.\n",
    "\n",
    "Write a function that takes two arguments, `dam_name` and `station_name` and returns a dataframe containing the **monthly change in dam level** for the dam with name `dam_name` as well as the rainfall measurements associated with the station with `station_name`.\n",
    "\n",
    "\n",
    "***Dataframe Specifications***\n",
    "- The `Year` column should be of `int` type.\n",
    "- The `Month` column should also be of `int` type.\n",
    "- A `DeltaStorageML` column containing the change in the dam level (in megalitres) for the dam with `dam_name` (of `float64` type).\n",
    "- A `PrecipitationMM` column containing the rainfall measurements associated with station `station_name` (of `float64` type).\n",
    "\n",
    "\n",
    "- Both `Year` and `Month` should form part of the index (with each unique year only appearing once).\n",
    "- The column order should be:  `Year` | `Month` | `PrecipitationMM` | `DeltaStorageML`.\n",
    "\n",
    "***HINT***\n",
    "- Use the functions you created previously.\n",
    "- This should be a very short function, around 3 lines."
   ]
  },
  {
   "cell_type": "code",
   "execution_count": 121,
   "metadata": {},
   "outputs": [],
   "source": [
    "def monthly_delta_storage_and_precipitation(dam_name, station_name):\n",
    "    \n",
    "    grouped_rain_df = monthly_precipitation(station_name)\n",
    "    grouped_damlevel_df = monthly_delta_storage(dam_name)\n",
    "    \n",
    "    combined_diff_df = grouped_rain_df.join(grouped_damlevel_df, how='inner')\n",
    "    \n",
    "    return combined_diff_df"
   ]
  },
  {
   "cell_type": "code",
   "execution_count": 122,
   "metadata": {},
   "outputs": [
    {
     "name": "stderr",
     "output_type": "stream",
     "text": [
      "C:\\Users\\User\\Anaconda3\\envs\\edsa\\lib\\site-packages\\pandas\\core\\indexing.py:537: SettingWithCopyWarning: \n",
      "A value is trying to be set on a copy of a slice from a DataFrame.\n",
      "Try using .loc[row_indexer,col_indexer] = value instead\n",
      "\n",
      "See the caveats in the documentation: http://pandas.pydata.org/pandas-docs/stable/indexing.html#indexing-view-versus-copy\n",
      "  self.obj[item] = s\n"
     ]
    },
    {
     "data": {
      "text/html": [
       "<div>\n",
       "<style scoped>\n",
       "    .dataframe tbody tr th:only-of-type {\n",
       "        vertical-align: middle;\n",
       "    }\n",
       "\n",
       "    .dataframe tbody tr th {\n",
       "        vertical-align: top;\n",
       "    }\n",
       "\n",
       "    .dataframe thead th {\n",
       "        text-align: right;\n",
       "    }\n",
       "</style>\n",
       "<table border=\"1\" class=\"dataframe\">\n",
       "  <thead>\n",
       "    <tr style=\"text-align: right;\">\n",
       "      <th></th>\n",
       "      <th></th>\n",
       "      <th>PrecipitationMM</th>\n",
       "      <th>DeltaStorageML</th>\n",
       "    </tr>\n",
       "    <tr>\n",
       "      <th>Year</th>\n",
       "      <th>Month</th>\n",
       "      <th></th>\n",
       "      <th></th>\n",
       "    </tr>\n",
       "  </thead>\n",
       "  <tbody>\n",
       "    <tr>\n",
       "      <th rowspan=\"10\" valign=\"top\">2012</th>\n",
       "      <th>1</th>\n",
       "      <td>0.0</td>\n",
       "      <td>-43449.0</td>\n",
       "    </tr>\n",
       "    <tr>\n",
       "      <th>2</th>\n",
       "      <td>0.0</td>\n",
       "      <td>-35403.0</td>\n",
       "    </tr>\n",
       "    <tr>\n",
       "      <th>3</th>\n",
       "      <td>0.0</td>\n",
       "      <td>-30566.0</td>\n",
       "    </tr>\n",
       "    <tr>\n",
       "      <th>4</th>\n",
       "      <td>95.0</td>\n",
       "      <td>-7041.0</td>\n",
       "    </tr>\n",
       "    <tr>\n",
       "      <th>5</th>\n",
       "      <td>77.6</td>\n",
       "      <td>9431.0</td>\n",
       "    </tr>\n",
       "    <tr>\n",
       "      <th>6</th>\n",
       "      <td>144.0</td>\n",
       "      <td>42094.0</td>\n",
       "    </tr>\n",
       "    <tr>\n",
       "      <th>7</th>\n",
       "      <td>216.4</td>\n",
       "      <td>50934.0</td>\n",
       "    </tr>\n",
       "    <tr>\n",
       "      <th>8</th>\n",
       "      <td>218.0</td>\n",
       "      <td>109231.0</td>\n",
       "    </tr>\n",
       "    <tr>\n",
       "      <th>9</th>\n",
       "      <td>104.5</td>\n",
       "      <td>37734.0</td>\n",
       "    </tr>\n",
       "    <tr>\n",
       "      <th>10</th>\n",
       "      <td>124.5</td>\n",
       "      <td>-2056.0</td>\n",
       "    </tr>\n",
       "  </tbody>\n",
       "</table>\n",
       "</div>"
      ],
      "text/plain": [
       "            PrecipitationMM  DeltaStorageML\n",
       "Year Month                                 \n",
       "2012 1                  0.0        -43449.0\n",
       "     2                  0.0        -35403.0\n",
       "     3                  0.0        -30566.0\n",
       "     4                 95.0         -7041.0\n",
       "     5                 77.6          9431.0\n",
       "     6                144.0         42094.0\n",
       "     7                216.4         50934.0\n",
       "     8                218.0        109231.0\n",
       "     9                104.5         37734.0\n",
       "     10               124.5         -2056.0"
      ]
     },
     "execution_count": 122,
     "metadata": {},
     "output_type": "execute_result"
    }
   ],
   "source": [
    "monthly_delta_storage_and_precipitation(\"THEEWATERSKLOOF\", \"JONKERSHOEK\").head(10)"
   ]
  },
  {
   "cell_type": "markdown",
   "metadata": {},
   "source": [
    "Expected output - \n",
    "\t\t\n",
    "|Year|\tMonth\t|\tPrecipitationMM\t|DeltaStorageML|\n",
    "| --- | --- | --- | --- |\n",
    "|2012|\t1|\t0.0|\t-43449.0|\n",
    "||2\t|0.0|\t-35403.0|\n",
    "||3\t|0.0|\t-30566.0|\n",
    "||4\t|95.0|\t-7041.0|\n",
    "||5\t|77.6|\t9431.0|\n",
    "||6\t|144.0|\t42094.0|\n",
    "||7\t|216.4|\t50934.0|\n",
    "||8\t|218.0|\t109231.0|\n",
    "||9\t|104.5|\t37734.0|\n",
    "||10|124.5|\t-2056.0|"
   ]
  },
  {
   "cell_type": "markdown",
   "metadata": {},
   "source": [
    "### Question 4 - Step 7\n",
    "\n",
    "Finally, we need to calculate the correlation between the change in dam levels and the precipitation from each station.\n",
    "\n",
    "Write a function that takes a `dam_name` as an argument and returns the correlation of `PrecipitationMM` from each `rain_station` with the change in its dam level (`DeltaStorageML`).\n",
    "\n",
    "It should return a dictionary in the form:\n",
    "\n",
    "```\n",
    "{\n",
    "    station_name: correlation with change in levels of dam_name as a float to 3 decimal places\n",
    "}\n",
    "```\n",
    "\n",
    "**IMPORTANT:  Your correlation values must be `float`s to 3 decimal places.**"
   ]
  },
  {
   "cell_type": "markdown",
   "metadata": {},
   "source": [
    "***HINT*** <br>\n",
    "The correlation between two columns in a DataFrame can be calculated as:\n",
    "\n",
    "```\n",
    "df.corr().ColumnA.ColumnB\n",
    "```"
   ]
  },
  {
   "cell_type": "code",
   "execution_count": 123,
   "metadata": {},
   "outputs": [],
   "source": [
    "def rain_station_correlations(dam_name):\n",
    "    \n",
    "    local_df = rain_station_df.copy()\n",
    "    \n",
    "    # Loop through all the Rain Stations and correlate with change in dam levels\n",
    "    correlations = {}\n",
    "    \n",
    "    for station_name in local_df.RainStationName.unique():\n",
    "        df = monthly_delta_storage_and_precipitation(dam_name, station_name)\n",
    "        corr = df.corr().DeltaStorageML.PrecipitationMM\n",
    "        correlations[station_name] = round(float(corr), 3)\n",
    "        \n",
    "    return correlations"
   ]
  },
  {
   "cell_type": "code",
   "execution_count": 124,
   "metadata": {},
   "outputs": [
    {
     "name": "stderr",
     "output_type": "stream",
     "text": [
      "C:\\Users\\User\\Anaconda3\\envs\\edsa\\lib\\site-packages\\pandas\\core\\indexing.py:537: SettingWithCopyWarning: \n",
      "A value is trying to be set on a copy of a slice from a DataFrame.\n",
      "Try using .loc[row_indexer,col_indexer] = value instead\n",
      "\n",
      "See the caveats in the documentation: http://pandas.pydata.org/pandas-docs/stable/indexing.html#indexing-view-versus-copy\n",
      "  self.obj[item] = s\n"
     ]
    },
    {
     "data": {
      "text/plain": [
       "{'ASSEGAAIBOS': 0.505,\n",
       " 'BERGDUMP': 0.278,\n",
       " 'CERES': 0.556,\n",
       " 'HAWEQWAS': 0.564,\n",
       " 'HIGGOVALE': 0.62,\n",
       " 'JONKERSHOEK': 0.592,\n",
       " 'KOGEL_BAAI': 0.55,\n",
       " 'KWAGGASKLOOF': 0.419,\n",
       " 'NEWLAND': 0.527,\n",
       " 'STEENBRAS LOWER': 0.55,\n",
       " 'TAFELBERG': 0.611,\n",
       " 'THEEWATERSKLOOF': 0.454,\n",
       " 'VOLELVLEI': 0.578,\n",
       " 'ZACHARIASHOEK': 0.511}"
      ]
     },
     "execution_count": 124,
     "metadata": {},
     "output_type": "execute_result"
    }
   ],
   "source": [
    "rain_station_correlations('VICTORIA')"
   ]
  },
  {
   "cell_type": "markdown",
   "metadata": {},
   "source": [
    "Expected output - <br>\n",
    "<br>\n",
    "{'ASSEGAAIBOS': 0.505,<br>\n",
    " 'BERGDUMP': 0.278,<br>\n",
    " 'CERES': 0.556,<br>\n",
    " 'HAWEQWAS': 0.564,<br>\n",
    " 'HIGGOVALE': 0.62,<br>\n",
    " 'JONKERSHOEK': 0.592,<br>\n",
    " 'KOGEL_BAAI': 0.55,<br>\n",
    " 'KWAGGASKLOOF': 0.419,<br>\n",
    " 'NEWLAND': 0.527,<br>\n",
    " 'STEENBRAS LOWER': 0.55,<br>\n",
    " 'TAFELBERG': 0.611,<br>\n",
    " 'THEEWATERSKLOOF': 0.454,<br>\n",
    " 'VOLELVLEI': 0.578,<br>\n",
    " 'ZACHARIASHOEK': 0.511}"
   ]
  },
  {
   "cell_type": "markdown",
   "metadata": {},
   "source": [
    "---------------"
   ]
  },
  {
   "cell_type": "markdown",
   "metadata": {},
   "source": [
    "## VERY IMPORTANT\n",
    "***DO NOT DELETE OR CHANGE THIS FUNCTION.***\n",
    "\n",
    "WE WILL USE IT TO TEST YOUR FUNCTIONS.\n",
    "WITHOUT IT YOUR SUBMISSION WILL BE GRADED ZERO."
   ]
  },
  {
   "cell_type": "code",
   "execution_count": 100,
   "metadata": {},
   "outputs": [],
   "source": [
    "def define_dataframes():\n",
    "    \n",
    "    global water_consumption_df\n",
    "    water_consumption_df = pd.read_csv('https://raw.githubusercontent.com/Explore-AI/Public-Data/master/AnalyseProject/water_consumption.csv', \n",
    "                                      usecols=[\"Date\", \"UrbanUseML\", \"AgriculturalUseML\"])\n",
    "    \n",
    "    global dam_df\n",
    "    dam_df = pd.read_csv('https://raw.githubusercontent.com/Explore-AI/Public-Data/master/AnalyseProject/dam.csv', \n",
    "                                      usecols=[\"DamId\", \"DamName\", \"MaxCapacityML\", \"Latitude\", \"Longitude\"])\n",
    "\n",
    "    global rain_station_df\n",
    "    rain_station_df = pd.read_csv('https://raw.githubusercontent.com/Explore-AI/Public-Data/master/AnalyseProject/rain_stations.csv', \n",
    "                                      usecols=[\"StationId\", \"RainStationName\", \"Latitude\", \"Longitude\"])\n",
    "\n",
    "    global dam_level_df\n",
    "    # DamID in the dam_level_df DataFrame corresponds to DamID in the dam_df DataFrame\n",
    "    dam_level_df = pd.read_csv('https://raw.githubusercontent.com/Explore-AI/Public-Data/master/AnalyseProject/dam_level.csv', \n",
    "                                      usecols=[\"Date\", \"DamId\", \"HeightM\", \"StorageML\"])\n",
    "\n",
    "    global rainfall_df\n",
    "    # StationID in the rainfall_df DataFrame corresponds to StationID in the rain_station_df DataFrame\n",
    "    rainfall_df = pd.read_csv('https://raw.githubusercontent.com/Explore-AI/Public-Data/master/AnalyseProject/rainfall.csv', \n",
    "                                      usecols=[\"Date\", \"StationId\", \"PrecipitationMM\"])"
   ]
  },
  {
   "cell_type": "code",
   "execution_count": 40,
   "metadata": {},
   "outputs": [],
   "source": [
    "s = np.logical_or(13, 60)"
   ]
  },
  {
   "cell_type": "code",
   "execution_count": 41,
   "metadata": {},
   "outputs": [
    {
     "data": {
      "text/plain": [
       "True"
      ]
     },
     "execution_count": 41,
     "metadata": {},
     "output_type": "execute_result"
    }
   ],
   "source": [
    "s"
   ]
  },
  {
   "cell_type": "code",
   "execution_count": null,
   "metadata": {},
   "outputs": [],
   "source": []
  }
 ],
 "metadata": {
  "kernelspec": {
   "display_name": "Python 3",
   "language": "python",
   "name": "python3"
  },
  "language_info": {
   "codemirror_mode": {
    "name": "ipython",
    "version": 3
   },
   "file_extension": ".py",
   "mimetype": "text/x-python",
   "name": "python",
   "nbconvert_exporter": "python",
   "pygments_lexer": "ipython3",
   "version": "3.6.8"
  },
  "varInspector": {
   "cols": {
    "lenName": 16,
    "lenType": 16,
    "lenVar": 40
   },
   "kernels_config": {
    "python": {
     "delete_cmd_postfix": "",
     "delete_cmd_prefix": "del ",
     "library": "var_list.py",
     "varRefreshCmd": "print(var_dic_list())"
    },
    "r": {
     "delete_cmd_postfix": ") ",
     "delete_cmd_prefix": "rm(",
     "library": "var_list.r",
     "varRefreshCmd": "cat(var_dic_list()) "
    }
   },
   "types_to_exclude": [
    "module",
    "function",
    "builtin_function_or_method",
    "instance",
    "_Feature"
   ],
   "window_display": true
  }
 },
 "nbformat": 4,
 "nbformat_minor": 2
}
